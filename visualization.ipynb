{
 "cells": [
  {
   "cell_type": "code",
   "execution_count": 2,
   "metadata": {},
   "outputs": [],
   "source": [
    "import matplotlib.pyplot as plt\n",
    "import numpy as np"
   ]
  },
  {
   "cell_type": "markdown",
   "metadata": {},
   "source": [
    "## Test Accuracy Comparison During Training"
   ]
  },
  {
   "cell_type": "code",
   "execution_count": 3,
   "metadata": {},
   "outputs": [],
   "source": [
    "epochs = range(1, 11)\n",
    "base_cnn = [92.61, 90.98, 94.16, 94.14, 94.05, 93.47, 94.63, 93.96, 93.95, 92.56]\n",
    "deep_cnn = [96.36, 97.40, 94.56, 97.03, 97.19, 96.03, 97.38, 96.76, 96.88, 97.15]\n",
    "batchnorm_cnn = [98.21, 98.60, 98.80, 98.89, 99.04, 98.83, 99.07, 98.97, 99.09, 98.98]\n",
    "wide_cnn = [99.12, 99.00, 99.22, 99.00, 99.05, 99.25, 99.41, 99.08, 99.20, 99.27]\n",
    "\n",
    "plt.figure(figsize=(10, 6))\n",
    "plt.plot(epochs, base_cnn, 'b-', label='Base CNN')\n",
    "plt.plot(epochs, deep_cnn, 'g-', label='Deep CNN')\n",
    "plt.plot(epochs, batchnorm_cnn, 'r-', label='BatchNorm CNN')\n",
    "plt.plot(epochs, wide_cnn, 'y-', label='Wide CNN')\n",
    "\n",
    "plt.title('Test Accuracy Comparison During Training')\n",
    "plt.xlabel('Epoch')\n",
    "plt.ylabel('Accuracy (%)')\n",
    "plt.legend()\n",
    "plt.grid(True)\n",
    "plt.savefig('training_curves.png')\n",
    "plt.close()"
   ]
  },
  {
   "cell_type": "markdown",
   "metadata": {},
   "source": [
    "## Best Test Accuracy Comparison Across Models"
   ]
  },
  {
   "cell_type": "code",
   "execution_count": 4,
   "metadata": {},
   "outputs": [],
   "source": [
    "models = ['Base CNN', 'Deep CNN', 'BatchNorm\\nCNN', 'Wide CNN', 'MobileViT']\n",
    "accuracies = [94.63, 97.40, 99.09, 99.41, 97.70]\n",
    "\n",
    "plt.figure(figsize=(10, 6))\n",
    "plt.bar(models, accuracies)\n",
    "plt.title('Best Test Accuracy Comparison Across Models')\n",
    "plt.xlabel('Model')\n",
    "plt.ylabel('Accuracy (%)')\n",
    "plt.ylim(94, 100)  # 设置y轴范围从94%到100%\n",
    "\n",
    "# 在柱状图顶部添加具体数值\n",
    "for i, v in enumerate(accuracies):\n",
    "    plt.text(i, v + 0.1, f'{v}%', ha='center')\n",
    "\n",
    "plt.savefig('model_comparison.png')\n",
    "plt.close()"
   ]
  },
  {
   "cell_type": "code",
   "execution_count": null,
   "metadata": {},
   "outputs": [],
   "source": []
  }
 ],
 "metadata": {
  "kernelspec": {
   "display_name": "Python 3",
   "language": "python",
   "name": "python3"
  },
  "language_info": {
   "codemirror_mode": {
    "name": "ipython",
    "version": 3
   },
   "file_extension": ".py",
   "mimetype": "text/x-python",
   "name": "python",
   "nbconvert_exporter": "python",
   "pygments_lexer": "ipython3",
   "version": "3.9.7"
  }
 },
 "nbformat": 4,
 "nbformat_minor": 2
}
